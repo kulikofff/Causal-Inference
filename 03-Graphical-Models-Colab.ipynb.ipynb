{
  "nbformat": 4,
  "nbformat_minor": 0,
  "metadata": {
    "colab": {
      "private_outputs": true,
      "provenance": [],
      "authorship_tag": "ABX9TyOW9lC+UIa4s9Zd8zXI41Po",
      "include_colab_link": true
    },
    "kernelspec": {
      "name": "python3",
      "display_name": "Python 3"
    },
    "language_info": {
      "name": "python"
    }
  },
  "cells": [
    {
      "cell_type": "markdown",
      "metadata": {
        "id": "view-in-github",
        "colab_type": "text"
      },
      "source": [
        "<a href=\"https://colab.research.google.com/github/kulikofff/Causal-Inference/blob/main/03-Graphical-Models-Colab.ipynb.ipynb\" target=\"_parent\"><img src=\"https://colab.research.google.com/assets/colab-badge.svg\" alt=\"Open In Colab\"/></a>"
      ]
    },
    {
      "cell_type": "code",
      "execution_count": null,
      "metadata": {
        "id": "Xnsf9d3A-vej"
      },
      "outputs": [],
      "source": [
        "import warnings\n",
        "warnings.filterwarnings('ignore')\n",
        "\n",
        "import pandas as pd\n",
        "import numpy as np\n",
        "import graphviz as gr\n",
        "from matplotlib import style\n",
        "import seaborn as sns\n",
        "from matplotlib import pyplot as plt\n",
        "\n",
        "color=['0.3', '0.5', '0.7', '0.9']\n",
        "linestyle=['-', '--', ':', '-.']\n",
        "marker=['o', 'v', 'd', 'p']\n",
        "\n",
        "pd.set_option('display.max_rows', 6)\n",
        "\n",
        "gr.set_default_format(\"png\");"
      ]
    },
    {
      "cell_type": "code",
      "source": [
        "!pip install graphviz"
      ],
      "metadata": {
        "id": "7EhcctUI-285"
      },
      "execution_count": null,
      "outputs": []
    },
    {
      "cell_type": "code",
      "source": [
        "import graphviz as gr\n",
        "\n",
        "g_cross_sell = gr.Digraph()\n",
        "\n",
        "g_cross_sell.edge(\"U\", \"conversion\")\n",
        "g_cross_sell.edge(\"U\", \"age\")\n",
        "g_cross_sell.edge(\"U\", \"gender\")\n",
        "\n",
        "g_cross_sell.edge(\"rnd\", \"cross_sell_email\")\n",
        "g_cross_sell.edge(\"cross_sell_email\", \"conversion\")\n",
        "g_cross_sell.edge(\"age\", \"conversion\")\n",
        "g_cross_sell.edge(\"gender\", \"conversion\")\n",
        "\n",
        "g_cross_sell"
      ],
      "metadata": {
        "id": "D2nYmH5A-7Q5"
      },
      "execution_count": null,
      "outputs": []
    }
  ]
}