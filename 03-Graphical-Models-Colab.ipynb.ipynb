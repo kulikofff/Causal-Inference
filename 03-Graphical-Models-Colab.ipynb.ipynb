{
  "nbformat": 4,
  "nbformat_minor": 0,
  "metadata": {
    "colab": {
      "private_outputs": true,
      "provenance": [],
      "authorship_tag": "ABX9TyPsgWm+YWmWOyk9TE+a9Bl6",
      "include_colab_link": true
    },
    "kernelspec": {
      "name": "python3",
      "display_name": "Python 3"
    },
    "language_info": {
      "name": "python"
    }
  },
  "cells": [
    {
      "cell_type": "markdown",
      "metadata": {
        "id": "view-in-github",
        "colab_type": "text"
      },
      "source": [
        "<a href=\"https://colab.research.google.com/github/kulikofff/Causal-Inference/blob/main/03-Graphical-Models-Colab.ipynb.ipynb\" target=\"_parent\"><img src=\"https://colab.research.google.com/assets/colab-badge.svg\" alt=\"Open In Colab\"/></a>"
      ]
    },
    {
      "cell_type": "code",
      "execution_count": null,
      "metadata": {
        "id": "Xnsf9d3A-vej"
      },
      "outputs": [],
      "source": [
        "import warnings\n",
        "warnings.filterwarnings('ignore')\n",
        "\n",
        "import pandas as pd\n",
        "import numpy as np\n",
        "import graphviz as gr\n",
        "from matplotlib import style\n",
        "import seaborn as sns\n",
        "from matplotlib import pyplot as plt\n",
        "\n",
        "color=['0.3', '0.5', '0.7', '0.9']\n",
        "linestyle=['-', '--', ':', '-.']\n",
        "marker=['o', 'v', 'd', 'p']\n",
        "\n",
        "pd.set_option('display.max_rows', 6)\n",
        "\n",
        "gr.set_default_format(\"png\");"
      ]
    },
    {
      "cell_type": "code",
      "source": [
        "data = pd.read_csv(\"./cross_sell_email.csv\")\n",
        "data"
      ],
      "metadata": {
        "id": "AyWMCG7FCZLR"
      },
      "execution_count": null,
      "outputs": []
    },
    {
      "source": [
        "# @title cross_sell_email vs gender\n",
        "\n",
        "from matplotlib import pyplot as plt\n",
        "import seaborn as sns\n",
        "figsize = (12, 1.2 * len(data['cross_sell_email'].unique()))\n",
        "plt.figure(figsize=figsize)\n",
        "sns.violinplot(data, x='gender', y='cross_sell_email', inner='stick', palette='Dark2')\n",
        "sns.despine(top=True, right=True, bottom=True, left=True)"
      ],
      "cell_type": "code",
      "execution_count": null,
      "outputs": [],
      "metadata": {
        "cellView": "form",
        "id": "hNfe5m2hGanp"
      }
    },
    {
      "source": [
        "# @title cross_sell_email\n",
        "\n",
        "from matplotlib import pyplot as plt\n",
        "import seaborn as sns\n",
        "data.groupby('cross_sell_email').size().plot(kind='barh', color=sns.palettes.mpl_palette('Dark2'))\n",
        "plt.gca().spines[['top', 'right',]].set_visible(False)"
      ],
      "cell_type": "code",
      "execution_count": null,
      "outputs": [],
      "metadata": {
        "cellView": "form",
        "id": "GrLM_hlAGU6Q"
      }
    },
    {
      "cell_type": "code",
      "source": [
        "import graphviz as gr\n",
        "\n",
        "g_cross_sell = gr.Digraph()\n",
        "\n",
        "g_cross_sell.edge(\"U\", \"conversion\")\n",
        "g_cross_sell.edge(\"U\", \"age\")\n",
        "g_cross_sell.edge(\"U\", \"gender\")\n",
        "\n",
        "g_cross_sell.edge(\"rnd\", \"cross_sell_email\")\n",
        "g_cross_sell.edge(\"cross_sell_email\", \"conversion\")\n",
        "g_cross_sell.edge(\"age\", \"conversion\")\n",
        "g_cross_sell.edge(\"gender\", \"conversion\")\n",
        "\n",
        "g_cross_sell"
      ],
      "metadata": {
        "id": "D2nYmH5A-7Q5"
      },
      "execution_count": null,
      "outputs": []
    },
    {
      "cell_type": "code",
      "source": [
        "# rankdir:LR layers the graph from left to right\n",
        "g_cross_sell = gr.Digraph(graph_attr={\"rankdir\": \"LR\"})\n",
        "g_cross_sell.edge(\"U\", \"conversion\")\n",
        "g_cross_sell.edge(\"U\", \"X\")\n",
        "g_cross_sell.edge(\"cross_sell_email\", \"conversion\")\n",
        "g_cross_sell.edge(\"X\", \"conversion\")\n",
        "g_cross_sell"
      ],
      "metadata": {
        "id": "8r3B62jdHWam"
      },
      "execution_count": null,
      "outputs": []
    },
    {
      "cell_type": "code",
      "source": [
        "g_consultancy = gr.Digraph(graph_attr={\"rankdir\": \"LR\"})\n",
        "\n",
        "g_consultancy.edge(\"U1\", \"profits_next_6m\")\n",
        "g_consultancy.edge(\"U2\", \"consultancy\")\n",
        "g_consultancy.edge(\"U3\", \"profits_prev_6m\")\n",
        "\n",
        "g_consultancy.edge(\"consultancy\", \"profits_next_6m\")\n",
        "\n",
        "g_consultancy.edge(\"profits_prev_6m\", \"consultancy\")\n",
        "g_consultancy.edge(\"profits_prev_6m\", \"profits_next_6m\")\n",
        "\n",
        "g_consultancy"
      ],
      "metadata": {
        "id": "qoauMIjgVMI1"
      },
      "execution_count": null,
      "outputs": []
    },
    {
      "cell_type": "code",
      "source": [
        "g_consultancy = gr.Digraph(graph_attr={\"rankdir\":\"LR\"})\n",
        "\n",
        "g_consultancy.edge(\"consultancy\", \"profits_next_6m\")\n",
        "g_consultancy.edge(\"profits_prev_6m\", \"consultancy\")\n",
        "g_consultancy.edge(\"profits_prev_6m\", \"profits_next_6m\")\n",
        "\n",
        "g_consultancy"
      ],
      "metadata": {
        "id": "9omxM7qkjaKP"
      },
      "execution_count": null,
      "outputs": []
    },
    {
      "cell_type": "code",
      "source": [
        "g = gr.Digraph()\n",
        "\n",
        "\n",
        "g.edge(\"X\", \"Y\")\n",
        "g.edge(\"X\", \"T\")\n",
        "g.node(\"X\", \"X\")\n",
        "\n",
        "g.edge(\"statistics\", \"causal inference\")\n",
        "g.edge(\"statistics\", \"machine learning\")\n",
        "\n",
        "g"
      ],
      "metadata": {
        "id": "JHIasX59XGG8"
      },
      "execution_count": null,
      "outputs": []
    },
    {
      "cell_type": "code",
      "source": [
        "g = gr.Digraph()\n",
        "\n",
        "g.edge(\"good programmer\", \"can invert a binary tree\")\n",
        "g.edge(\"good programmer\", \"good employee\")\n",
        "\n",
        "g"
      ],
      "metadata": {
        "id": "yB8LbjxQYDGn"
      },
      "execution_count": null,
      "outputs": []
    },
    {
      "cell_type": "code",
      "source": [
        "g = gr.Digraph(graph_attr={\"rankdir\": \"LR\"})\n",
        "g.edge(\"C\", \"A\")\n",
        "g.edge(\"C\", \"B\")\n",
        "g.edge(\"D\", \"A\")\n",
        "g.edge(\"B\", \"E\")\n",
        "g.edge(\"F\", \"E\")\n",
        "g.edge(\"A\", \"G\")\n",
        "\n",
        "g"
      ],
      "metadata": {
        "id": "OoR2-VCNKqtv"
      },
      "execution_count": null,
      "outputs": []
    },
    {
      "cell_type": "code",
      "source": [
        "import networkx as nx\n",
        "\n",
        "model = nx.DiGraph([\n",
        "    (\"C\", \"A\"),\n",
        "    (\"C\", \"B\"),\n",
        "    (\"D\", \"A\"),\n",
        "    (\"B\", \"E\"),\n",
        "    (\"F\", \"E\"),\n",
        "    (\"A\", \"G\"),\n",
        "])"
      ],
      "metadata": {
        "id": "9u1m-l0XKzT-"
      },
      "execution_count": null,
      "outputs": []
    },
    {
      "cell_type": "code",
      "source": [
        "df = pd.DataFrame(dict(\n",
        "    profits_prev_6m=[1.0, 1.0, 1.0, 5.0, 5.0, 5.0],\n",
        "    consultancy=[0, 0, 1, 0, 1, 1],\n",
        "    profits_next_6m=[1, 1.1, 1.2, 5.5, 5.7, 5.7],\n",
        "))\n",
        "\n",
        "df"
      ],
      "metadata": {
        "id": "G7qGJkfKjnJz"
      },
      "execution_count": null,
      "outputs": []
    },
    {
      "cell_type": "code",
      "source": [
        "(df.query(\"consultancy==1\")[\"profits_next_6m\"].mean()\n",
        " - df.query(\"consultancy==0\")[\"profits_next_6m\"].mean())"
      ],
      "metadata": {
        "id": "9BTUSDUejwXm"
      },
      "execution_count": null,
      "outputs": []
    },
    {
      "cell_type": "code",
      "source": [
        "df.query(\"consultancy==1\")[\"profits_next_6m\"].mean()"
      ],
      "metadata": {
        "id": "GiuUtscpj0pv"
      },
      "execution_count": null,
      "outputs": []
    },
    {
      "cell_type": "code",
      "source": [
        "df.query(\"consultancy==0\")[\"profits_next_6m\"].mean()"
      ],
      "metadata": {
        "id": "WRR-MA7zj9YF"
      },
      "execution_count": null,
      "outputs": []
    },
    {
      "cell_type": "code",
      "source": [
        "avg_df = (df\n",
        "          .groupby([\"consultancy\", \"profits_prev_6m\"])\n",
        "          [\"profits_next_6m\"]\n",
        "          .mean())\n",
        "\n",
        "avg_df.loc[1] - avg_df.loc[0]"
      ],
      "metadata": {
        "id": "7FvY1wuPj-_E"
      },
      "execution_count": null,
      "outputs": []
    },
    {
      "cell_type": "code",
      "source": [
        "avg_df"
      ],
      "metadata": {
        "id": "4P1fGvYAkDCz"
      },
      "execution_count": null,
      "outputs": []
    },
    {
      "cell_type": "code",
      "source": [
        "df"
      ],
      "metadata": {
        "id": "wUl7_xX5kUEF"
      },
      "execution_count": null,
      "outputs": []
    },
    {
      "cell_type": "code",
      "source": [
        "avg_df.loc[1]"
      ],
      "metadata": {
        "id": "PJuu_6Tckpud"
      },
      "execution_count": null,
      "outputs": []
    }
  ]
}